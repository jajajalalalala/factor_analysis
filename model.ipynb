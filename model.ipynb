{
 "cells": [
  {
   "cell_type": "code",
   "execution_count": 17,
   "metadata": {},
   "outputs": [],
   "source": [
    "import numpy as np\n",
    "import statsmodels.api as sm\n",
    "import pandas as pd\n",
    "from sklearn.preprocessing import StandardScaler\n",
    "data = pd.read_csv('final_merged_data.csv')"
   ]
  },
  {
   "cell_type": "code",
   "execution_count": 12,
   "metadata": {},
   "outputs": [],
   "source": [
    "selected_features = [\n",
    "    'Weighted Mkt Return',\n",
    "    'Price Growth Rate',\n",
    "    'Price Ret Ex-Dividend',\n",
    "    'Revenue Growth',\n",
    "    'Earnings Growth Rate',\n",
    "    'P/E Ratio Quarter',\n",
    "    'Quart NI',\n",
    "    'Mkt Cap',\n",
    "    'Mean Recommendation',\n",
    "    'EPS'\n",
    "]"
   ]
  },
  {
   "cell_type": "code",
   "execution_count": 18,
   "metadata": {},
   "outputs": [
    {
     "name": "stdout",
     "output_type": "stream",
     "text": [
      "                                   OLS Regression Results                                  \n",
      "===========================================================================================\n",
      "Dep. Variable:     Next Quarter Total Ret   R-squared (uncentered):                   0.021\n",
      "Model:                                OLS   Adj. R-squared (uncentered):              0.020\n",
      "Method:                     Least Squares   F-statistic:                              37.10\n",
      "Date:                    Tue, 03 Dec 2024   Prob (F-statistic):                    8.93e-73\n",
      "Time:                            11:01:19   Log-Likelihood:                          3754.3\n",
      "No. Observations:                   17533   AIC:                                     -7489.\n",
      "Df Residuals:                       17523   BIC:                                     -7411.\n",
      "Df Model:                              10                                                  \n",
      "Covariance Type:                nonrobust                                                  \n",
      "=========================================================================================\n",
      "                            coef    std err          t      P>|t|      [0.025      0.975]\n",
      "-----------------------------------------------------------------------------------------\n",
      "const                          0          0        nan        nan           0           0\n",
      "Weighted Mkt Return      -0.0204      0.002    -11.687      0.000      -0.024      -0.017\n",
      "Price Growth Rate         0.0006      0.001      0.389      0.697      -0.002       0.003\n",
      "Price Ret Ex-Dividend     0.0327      0.002     18.638      0.000       0.029       0.036\n",
      "Revenue Growth           -0.0022      0.001     -1.476      0.140      -0.005       0.001\n",
      "Earnings Growth Rate     -0.0006      0.001     -0.398      0.691      -0.003       0.002\n",
      "P/E Ratio Quarter        -0.0013      0.001     -0.874      0.382      -0.004       0.002\n",
      "Quart NI                  0.0062      0.002      2.614      0.009       0.002       0.011\n",
      "Mkt Cap                  -0.0080      0.002     -3.567      0.000      -0.012      -0.004\n",
      "Mean Recommendation       0.0004      0.001      0.267      0.790      -0.003       0.003\n",
      "EPS                      -0.0018      0.002     -1.137      0.255      -0.005       0.001\n",
      "==============================================================================\n",
      "Omnibus:                     2954.087   Durbin-Watson:                   1.810\n",
      "Prob(Omnibus):                  0.000   Jarque-Bera (JB):            43050.455\n",
      "Skew:                           0.360   Prob(JB):                         0.00\n",
      "Kurtosis:                      10.643   Cond. No.                          inf\n",
      "==============================================================================\n",
      "\n",
      "Notes:\n",
      "[1] R² is computed without centering (uncentered) since the model does not contain a constant.\n",
      "[2] Standard Errors assume that the covariance matrix of the errors is correctly specified.\n",
      "[3] The smallest eigenvalue is      0. This might indicate that there are\n",
      "strong multicollinearity problems or that the design matrix is singular.\n"
     ]
    },
    {
     "name": "stderr",
     "output_type": "stream",
     "text": [
      "/Library/Frameworks/Python.framework/Versions/3.11/lib/python3.11/site-packages/statsmodels/regression/linear_model.py:1967: RuntimeWarning: divide by zero encountered in scalar divide\n",
      "  return np.sqrt(eigvals[0]/eigvals[-1])\n"
     ]
    }
   ],
   "source": [
    "data['Next Quarter Total Ret'] = data.groupby('TICKER')['Total Ret'].shift(-1)\n",
    "\n",
    "X = data[selected_features]\n",
    "y = data['Next Quarter Total Ret']\n",
    "X = sm.add_constant(X)\n",
    "\n",
    "X = X.replace([np.inf, -np.inf], np.nan).dropna()\n",
    "y = y[X.index]\n",
    "\n",
    "# Check for remaining missing values in the target variable and clean if necessary\n",
    "if y.isna().sum() > 0:\n",
    "    valid_indices = y.dropna().index\n",
    "    X = X.loc[valid_indices]\n",
    "    y = y.loc[valid_indices]\n",
    "\n",
    "# Standardize features for numerical stability\n",
    "scaler = StandardScaler()\n",
    "X_scaled = pd.DataFrame(scaler.fit_transform(X), columns=X.columns, index=X.index)\n",
    "\n",
    "model = sm.OLS(y, X_scaled).fit()\n",
    "\n",
    "print(model.summary())\n"
   ]
  }
 ],
 "metadata": {
  "kernelspec": {
   "display_name": "Python 3",
   "language": "python",
   "name": "python3"
  },
  "language_info": {
   "codemirror_mode": {
    "name": "ipython",
    "version": 3
   },
   "file_extension": ".py",
   "mimetype": "text/x-python",
   "name": "python",
   "nbconvert_exporter": "python",
   "pygments_lexer": "ipython3",
   "version": "3.11.8"
  }
 },
 "nbformat": 4,
 "nbformat_minor": 2
}
